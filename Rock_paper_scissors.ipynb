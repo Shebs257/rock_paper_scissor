{
 "cells": [
  {
   "cell_type": "code",
   "execution_count": 2,
   "id": "402a7295-8f3e-480f-aaa7-6876cb1e0832",
   "metadata": {},
   "outputs": [],
   "source": [
    "### Description \n",
    "#### In this game, the user gets the first chance to pick the option among Rock, paper and scissors. After that computer select from the remaining two choices(randomly), the winner is decided as per the rules.\n",
    "##- Rock vs paper-> paper wins\n",
    "##- Rock vs scissor-> Rock wins\n",
    "##- paper vs scissor-> scissor wins."
   ]
  },
  {
   "cell_type": "code",
   "execution_count": 3,
   "id": "b530313c-f5df-4f01-b6ea-dba65441b21a",
   "metadata": {},
   "outputs": [
    {
     "name": "stdout",
     "output_type": "stream",
     "text": [
      "Hello!! let's start\n"
     ]
    },
    {
     "name": "stdin",
     "output_type": "stream",
     "text": [
      "Please enter your choice from Rock, paper and scissors سس\n"
     ]
    },
    {
     "name": "stdout",
     "output_type": "stream",
     "text": [
      "invalid choice\n",
      "There's something wrong, let's try one more time\n"
     ]
    },
    {
     "name": "stdin",
     "output_type": "stream",
     "text": [
      "play again ?? (yes or no) no\n"
     ]
    }
   ],
   "source": [
    "import random\n",
    "pc_ch = True\n",
    "while pc_ch:\n",
    "    game_choices = ['rock' , 'paper' , 'scissors']\n",
    "    print(\"Hello!! let's start\")\n",
    "    user_choice = input(\"Please enter your choice from Rock, paper and scissors\").lower()\n",
    "    if user_choice in game_choices:\n",
    "        game_choices.remove(user_choice)\n",
    "    else:\n",
    "        print(\"invalid choice\")\n",
    "    computer_choice = random.choice(game_choices)\n",
    "    if user_choice == 'rock' and computer_choice == 'scissors':\n",
    "        print(\" Rock vs scissor-> Rock wins, hurray u wins \")\n",
    "    elif user_choice == 'rock' and computer_choice == 'paper':\n",
    "        print(\" Rock vs paper-> paper wins, Oh No you lost \")\n",
    "    elif user_choice == 'paper' and computer_choice == 'scissors':\n",
    "        print(\" Paper vs scissors-> Scissors wins, Oh No you lost \")\n",
    "    elif user_choice == 'paper' and computer_choice == 'rock':\n",
    "        print(\" Paper vs Rock-> Rock wins, hurray u wins \")\n",
    "    elif user_choice == 'scissors' and computer_choice == 'paper':\n",
    "        print(\" Scissors vs paper-> Scissors wins, hurray u wins \")\n",
    "    elif user_choice == 'scissors' and computer_choice == 'rock':\n",
    "        print(\" Scissors vs Rock-> Rock wins, Oh No you lost \")\n",
    "    else:\n",
    "        print(\"There's something wrong, let's try one more time\")\n",
    "    play_again = input(\"play again ?? (yes or no)\")\n",
    "    if play_again == \"no\":\n",
    "        pc_ch = False"
   ]
  },
  {
   "cell_type": "code",
   "execution_count": null,
   "id": "f5ca47ce-bb13-4d29-b464-6bcce8fe6a39",
   "metadata": {},
   "outputs": [],
   "source": []
  }
 ],
 "metadata": {
  "kernelspec": {
   "display_name": "Python 3 (ipykernel)",
   "language": "python",
   "name": "python3"
  },
  "language_info": {
   "codemirror_mode": {
    "name": "ipython",
    "version": 3
   },
   "file_extension": ".py",
   "mimetype": "text/x-python",
   "name": "python",
   "nbconvert_exporter": "python",
   "pygments_lexer": "ipython3",
   "version": "3.9.19"
  }
 },
 "nbformat": 4,
 "nbformat_minor": 5
}
